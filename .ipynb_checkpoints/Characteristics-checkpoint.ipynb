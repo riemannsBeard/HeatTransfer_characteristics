{
 "cells": [
  {
   "cell_type": "code",
   "execution_count": 1,
   "id": "b845190c",
   "metadata": {},
   "outputs": [],
   "source": [
    "%matplotlib inline\n",
    "import matplotlib_inline\n",
    "import warnings\n",
    "import csv\n",
    "\n",
    "# matplotlib_inline.backend_inline.set_matplotlib_formats('svg','pdf')\n",
    "warnings.filterwarnings('ignore')\n",
    "\n",
    "import csv\n",
    "import numpy as np\n",
    "import scipy as sp\n",
    "import matplotlib.pyplot as plt\n",
    "from scipy import interpolate\n",
    "from scipy.interpolate import interp1d, interp2d\n",
    "from scipy.special import *\n",
    "\n",
    "plt.rcParams['text.usetex'] = True\n",
    "plt.rcParams['font.family'] = 'serif'\n",
    "plt.rcParams['font.serif'] = [\"Computer Modern Roman\"]\n",
    "plt.rcParams['axes.formatter.use_mathtext'] = True\n",
    "plt.rcParams['legend.fontsize'] = 12\n",
    "plt.rcParams['axes.labelsize'] = 16\n",
    "plt.rcParams['axes.titlesize'] = 16\n",
    "plt.rcParams['figure.titlesize'] = 16\n",
    "plt.rcParams['xtick.labelsize'] = 12\n",
    "plt.rcParams['ytick.labelsize'] = 12\n",
    "plt.rcParams['lines.markersize'] = 5"
   ]
  },
  {
   "cell_type": "markdown",
   "id": "875ec4b7",
   "metadata": {},
   "source": [
    "# Direct numerical integration"
   ]
  },
  {
   "cell_type": "markdown",
   "id": "397d862c",
   "metadata": {},
   "source": [
    "Data"
   ]
  },
  {
   "cell_type": "code",
   "execution_count": 2,
   "id": "573b74da",
   "metadata": {},
   "outputs": [],
   "source": [
    "R = 1.5\n",
    "H = 6.1\n",
    "d = 0.015\n",
    "eps = 0.22\n",
    "mDot = 7.0"
   ]
  },
  {
   "cell_type": "markdown",
   "id": "b4678ef0",
   "metadata": {},
   "source": [
    "Thermophysical properties (from Van Lew, 2017)"
   ]
  },
  {
   "cell_type": "code",
   "execution_count": 3,
   "id": "ced23dcc",
   "metadata": {},
   "outputs": [],
   "source": [
    "# Fluid\n",
    "rhof = 1733\n",
    "muf = 0.0021\n",
    "cpf = 1550\n",
    "kf = 0.57\n",
    "\n",
    "# Solid\n",
    "rhos = 2640\n",
    "cps = 1050\n",
    "ks = 2.5"
   ]
  },
  {
   "cell_type": "code",
   "execution_count": 4,
   "id": "f2fa0120",
   "metadata": {},
   "outputs": [],
   "source": [
    "# velocidades\n",
    "u = mDot/(eps*rhof*np.pi*R**2)\n",
    "u0 = eps*u"
   ]
  },
  {
   "cell_type": "code",
   "execution_count": 5,
   "id": "1108fa9f",
   "metadata": {},
   "outputs": [],
   "source": [
    "dt = 3.6\n",
    "dx = 2.2e-2\n",
    "\n",
    "t0 = 0\n",
    "# Four times the experimental discharge time\n",
    "tf = H/u0 #2*3600\n",
    "xf = H\n",
    "\n",
    "t = np.arange(t0, tf + dt, dt)\n",
    "x = np.arange(0, xf + dx, dx)\n",
    "\n",
    "Nx = len(x) - 1\n",
    "Nt = len(t) - 1"
   ]
  },
  {
   "cell_type": "code",
   "execution_count": 6,
   "id": "59e6cc8f",
   "metadata": {},
   "outputs": [
    {
     "name": "stdout",
     "output_type": "stream",
     "text": [
      "CFL =  0.42503454159872484\n",
      "u =  0.002597433309769985\n"
     ]
    }
   ],
   "source": [
    "CFL = dt*u/dx\n",
    "print('CFL = ', CFL)\n",
    "print('u = ', u)"
   ]
  },
  {
   "cell_type": "code",
   "execution_count": 7,
   "id": "78034278",
   "metadata": {},
   "outputs": [],
   "source": [
    "# Reference temperatures\n",
    "Tmin = 290 + 273\n",
    "Tmax = 396 + 273\n",
    "\n",
    "Tin = Tmin\n",
    "T0 = 2*Tmin #Tmax"
   ]
  },
  {
   "cell_type": "code",
   "execution_count": 8,
   "id": "07a60d3d",
   "metadata": {},
   "outputs": [],
   "source": [
    "# Initialization\n",
    "Tf = np.zeros((Nx+1, Nt+1))\n",
    "Ts = np.zeros((Nx+1, Nt+1))\n",
    "\n",
    "# BCs\n",
    "Tf[0,:] = Tin\n",
    "\n",
    "# ICs\n",
    "Tf[:,0] = T0\n",
    "Ts[:,0] = T0"
   ]
  },
  {
   "cell_type": "code",
   "execution_count": 9,
   "id": "549fdd54",
   "metadata": {},
   "outputs": [],
   "source": [
    "# Transport-term coeffs.\n",
    "alpha = eps*rhof*cpf\n",
    "gamma = (1 - eps)*rhos*cps\n",
    "\n",
    "# Diffusive-term coeffs.\n",
    "beta = eps*kf\n",
    "betas = (1 - eps)*ks"
   ]
  },
  {
   "cell_type": "code",
   "execution_count": 10,
   "id": "e0fcc902",
   "metadata": {},
   "outputs": [
    {
     "data": {
      "text/plain": [
       "1597.3228686617686"
      ]
     },
     "execution_count": 10,
     "metadata": {},
     "output_type": "execute_result"
    }
   ],
   "source": [
    "# Calculation of heat transfer coeff.\n",
    "Pr = cpf*muf/kf\n",
    "rchar = eps*d/(4*(1-eps))\n",
    "G = mDot/(eps*np.pi*R**2)\n",
    "Re = 4*G*rchar/muf\n",
    "h = 0.191*mDot*cpf/(eps*np.pi*R**2)*Re**(-0.278)*Pr**(-2/3)*np.pi*R**2\n",
    "\n",
    "# Rep = rhof*d*u/muf\n",
    "# Pr = cpf*muf/kf\n",
    "# Nu = 0.664*Rep**0.5*Pr**0.5\n",
    "# a = Nu*kf/d\n",
    "\n",
    "# # Heat transfer coeff.\n",
    "# h = a*6*(1-eps)/d\n",
    "\n",
    "h"
   ]
  },
  {
   "cell_type": "code",
   "execution_count": 11,
   "id": "e5aba87c",
   "metadata": {},
   "outputs": [
    {
     "name": "stdout",
     "output_type": "stream",
     "text": [
      "6.3478286785477716\n",
      "1.734963370460022\n"
     ]
    }
   ],
   "source": [
    "Lambda = h*H/(rhof*cpf*u*eps)\n",
    "Lambdas = h*H/(rhos*cps*u*(1-eps))\n",
    "\n",
    "print(Lambda)\n",
    "print(Lambdas)"
   ]
  },
  {
   "cell_type": "code",
   "execution_count": 12,
   "id": "a15f58c6",
   "metadata": {},
   "outputs": [],
   "source": [
    "# Matrix terms\n",
    "p = u*dt/dx\n",
    "\n",
    "q = beta/alpha*dt/(dx**2)\n",
    "qs = betas*dt/(gamma*dx**2)\n",
    "\n",
    "r = h*dt/alpha\n",
    "rs = h*dt/gamma"
   ]
  },
  {
   "cell_type": "code",
   "execution_count": 13,
   "id": "3bb6b3e4",
   "metadata": {},
   "outputs": [],
   "source": [
    "# Semi-implicit form of heat transfer term\n",
    "# diagonals = [np.ones(Nx)*(1 + 2*q + r + p), np.ones(Nx)*(-q), np.ones(Nx)*(-p-q)]\n",
    "\n",
    "# Explicit form of heat transfer term\n",
    "diagonals = [np.ones(Nx)*(1 + 2*q + p), np.ones(Nx)*(-q), np.ones(Nx)*(-p-q)]\n",
    "\n",
    "offsets = [0, 1, -1]\n",
    "A = sp.sparse.diags(diagonals, offsets).toarray()\n",
    "A[-1,-2] = -2*q - p\n",
    "\n",
    "A = sp.sparse.csr_matrix(A)"
   ]
  },
  {
   "cell_type": "code",
   "execution_count": null,
   "id": "dd1d799d",
   "metadata": {},
   "outputs": [],
   "source": [
    "# Semi-implicit form of heat transfer term\n",
    "# diagonals = [np.ones(Nx + 1)*(1 + 2*qs + rs), np.ones(Nx + 1)*(-qs), np.ones(Nx + 1)*(-qs)]\n",
    "\n",
    "# Explicit form of heat transfer term\n",
    "diagonals = [np.ones(Nx + 1)*(1 + 2*qs), np.ones(Nx + 1)*(-qs), np.ones(Nx + 1)*(-qs)]\n",
    "\n",
    "offsets = [0, 1, -1]\n",
    "As = sp.sparse.diags(diagonals, offsets).toarray()\n",
    "As[-1,-2] = -2*qs\n",
    "As[0,1] = -2*qs\n",
    "\n",
    "As = sp.sparse.csr_matrix(As)"
   ]
  },
  {
   "cell_type": "code",
   "execution_count": null,
   "id": "b4448074",
   "metadata": {},
   "outputs": [],
   "source": [
    "bc0 = np.zeros(Nx)\n",
    "bc1 = np.zeros(Nx)\n",
    "\n",
    "bc0[0] = Tin\n",
    "bc1[0] = Tin"
   ]
  },
  {
   "cell_type": "code",
   "execution_count": null,
   "id": "88c57dd3",
   "metadata": {},
   "outputs": [],
   "source": [
    "AA = sp.sparse.block_diag((sp.sparse.linalg.inv(A), sp.sparse.linalg.inv(As)))"
   ]
  },
  {
   "cell_type": "code",
   "execution_count": null,
   "id": "8ea418ad",
   "metadata": {},
   "outputs": [],
   "source": [
    "for i in range(1,Nt+1):\n",
    "    \n",
    "#   Semi-implicit form of heat transfer term\n",
    "#     Ts[i,:] = sp.sparse.linalg.spsolve(As, Ts[i-1,:] + rs*Tf[i-1,:])\n",
    "#     Tf[i,1:] = sp.sparse.linalg.spsolve(A, Tf[i-1,1:] + (q + p)*bc1 + \\\n",
    "#                 r*Ts[i-1,1:])\n",
    "\n",
    "    # Solve the entire coupled system in matrix form\n",
    "    TT = np.concatenate([Tf[1:,i-1] + (q + p)*bc1 - r*(Tf[1:,i-1] - Ts[1:,i-1]),\n",
    "                         Ts[:,i-1] + rs*(Tf[:,i-1] - Ts[:,i-1])])\n",
    "    sol = AA.dot(TT)\n",
    "\n",
    "#     Ts[:,i] = sp.sparse.linalg.spsolve(As, Ts[:,i-1] + rs*(Tf[:,i-1] - Ts[:,i-1]))\n",
    "#     Tf[1:,i] = sp.sparse.linalg.spsolve(A, Tf[1:,i-1] + (q + p)*bc1 - r*(Tf[1:,i-1] - Ts[1:,i-1]))\n",
    "    \n",
    "    \n",
    "    Tf[1:,i] = sol[:Nx]\n",
    "    Ts[:,i] = sol[Nx:]"
   ]
  },
  {
   "cell_type": "code",
   "execution_count": null,
   "id": "e211d2ab",
   "metadata": {
    "scrolled": false
   },
   "outputs": [],
   "source": [
    "fig, axs = plt.subplots(nrows=2, ncols=1, figsize=(8,8), sharex='row')\n",
    "(ax1, ax2) = axs\n",
    "\n",
    "thetaf = (Tf - Tin)/Tin\n",
    "thetas = (Ts - Tin)/Tin\n",
    "\n",
    "cs1 = ax1.contourf(x/H, t*u0/H, thetaf.T, 10)\n",
    "plt.tight_layout()\n",
    "cbar1 = plt.colorbar(cs1)\n",
    "cbar1.set_label(r'$T$', fontsize=16)\n",
    "ax1.set_ylabel(r'$t$', fontsize=16)\n",
    "ax1.set_box_aspect(1)\n",
    "ax1.plot(x/H, x/H,'r--', label=r'$x = t$')\n",
    "ax1.legend(loc='lower right')\n",
    "ax1.set_xlim([0, 1])\n",
    "ax1.set_ylim([0, 1])\n",
    "\n",
    "cs2 = ax2.contourf(x/H, t*u0/H, thetas.T, 10)\n",
    "cbar2 = plt.colorbar(cs2)\n",
    "cbar2.set_label(r'$T_s$', fontsize=16)\n",
    "ax2.set_xlabel(r'$x$', fontsize=16)\n",
    "ax2.set_ylabel(r'$t$', fontsize=16)\n",
    "ax2.set_box_aspect(1)\n",
    "ax2.plot(x/H, x/H,'r--')\n",
    "ax2.set_xlim([0, 1])\n",
    "ax2.set_ylim([0, 1])\n",
    "\n",
    "fig.savefig('DNS_T_vs_x_vs_t.pdf', bbox_inches='tight')\n",
    "plt.show()"
   ]
  },
  {
   "cell_type": "code",
   "execution_count": null,
   "id": "63d30206",
   "metadata": {
    "scrolled": false
   },
   "outputs": [],
   "source": [
    "fig, ax = plt.subplots(figsize=(8,8))\n",
    "\n",
    "plt.plot(x/H, thetaf[:,0], 'k', x/H, thetas[:,0], 'k--',\n",
    "         x/H, thetaf[:,int(1/4*len(t))], \n",
    "         x/H, thetaf[:,int(2/4*len(t))], x/H, thetaf[:,int(3/4*len(t))], x/H, thetaf[:,-1])\n",
    "\n",
    "plt.gca().set_prop_cycle(None)\n",
    "\n",
    "plt.plot(x/H, thetas[:,int(1/4*len(t))], '--', \n",
    "         x/H, thetas[:,int(2/4*len(t))], '--', x/H, thetas[:,int(3/4*len(t))], '--',\n",
    "         x/H, thetas[:,-1], '--')\n",
    "\n",
    "plt.legend([r'$x = 0$ (fluid)', r'$x = 0$ (solid)', r'$t = 1/4 \\,t_f$',\n",
    "            r'$t = 1/2 \\,t_f$', r'$t = 3/4 \\,t_f$', r'$t = t_f$'])\n",
    "ax.set_box_aspect(0.8)\n",
    "ax.set_xlabel(r'$x$', fontsize=16)\n",
    "ax.set_ylabel(r'$T$', fontsize=16)\n",
    "# ax.set_ylim([-1,0])\n",
    "\n",
    "plt.title(r'$\\alpha_i \\sim 10^{-5}$', fontsize=16)\n",
    "\n",
    "fig.savefig('DNS_Tf_Ts_vs_x.pdf', bbox_inches='tight')\n",
    "plt.show()"
   ]
  },
  {
   "cell_type": "code",
   "execution_count": null,
   "id": "4e0585f3",
   "metadata": {},
   "outputs": [],
   "source": [
    "fig, ax = plt.subplots(figsize=(8,8))\n",
    "plt.plot(t*u/H, thetaf[0,:], 'k', t*u/H, thetas[0,:], 'k--',\n",
    "         t*u/H, thetaf[int(1*len(x)/4),:],\n",
    "         t*u/H, thetaf[int(2*len(x)/4),:], t*u/H, thetaf[int(3*len(x)/4),:], t*u/H, thetaf[-1,:])\n",
    "\n",
    "plt.gca().set_prop_cycle(None)\n",
    "\n",
    "plt.plot(t*u/H, thetas[int(1*len(x)/4),:], '--',\n",
    "         t*u/H, thetas[int(2*len(x)/4),:], '--', t*u/H, thetas[int(3*len(x)/4),:], '--',\n",
    "         t*u/H, thetas[-1,:], '--')\n",
    "\n",
    "plt.legend([r'$x = 0$ (fluid)', r'$x = 0$ (solid)', r'$x = 1/4$',\n",
    "            r'$x = 1/2$', r'$x = 3/4$', r'$x = 1$'])\n",
    "ax.set_box_aspect(0.8)\n",
    "ax.set_xlabel(r'$t$', fontsize=16)\n",
    "ax.set_ylabel(r'$T$', fontsize=16)\n",
    "# ax.set_ylim([-0.3,0.1])\n",
    "\n",
    "plt.title(r'$\\alpha_i \\sim 10^{-5}$', fontsize=16)\n",
    "\n",
    "fig.savefig('DNS_Tf_Ts_vs_t.pdf', bbox_inches='tight')\n",
    "plt.show()"
   ]
  },
  {
   "cell_type": "code",
   "execution_count": null,
   "id": "42552022",
   "metadata": {},
   "outputs": [],
   "source": [
    "fig, axs = plt.subplots(nrows=1, ncols=2, figsize=(12,12), sharey='all')\n",
    "(ax1, ax2) = axs\n",
    "\n",
    "ax1.plot(t*u0/H, thetaf[0,:], 'k-', t*u0/H, thetaf[int(1/4*len(x)),:],\n",
    "         t*u0/H, thetaf[int(1/2*len(x)),:], t*u0/H, thetaf[int(3/4*len(x)),:],\n",
    "         t*u0/H, thetaf[-1,:])\n",
    "\n",
    "ax1.set_prop_cycle(None)\n",
    "\n",
    "ax1.plot(t*u0/H, thetas[0,:], 'k--', \n",
    "         t*u0/H, thetas[int(1/4*len(x)),:], '--', t*u0/H, thetas[int(1/2*len(x)),:], '--',\n",
    "         t*u0/H, thetas[int(3/4*len(x)),:], '--', t*u0/H, thetas[-1,:], '--')\n",
    "\n",
    "ax1.legend([r'$x = 0$', r'$x = 1/4$', r'$x = 1/2$', r'$x = 3/4$', r'$x = 1$'])\n",
    "ax1.set_box_aspect(0.8)\n",
    "ax1.set_xlabel(r'$t$', fontsize=16)\n",
    "ax1.set_ylabel(r'$T$', fontsize=16)\n",
    "\n",
    "##\n",
    "\n",
    "ax2.plot(x/H, thetaf[:,0], 'k', x/H, thetaf[:,int(1/4*len(t))], \n",
    "         x/H, thetaf[:,int(2/4*len(t))], x/H, thetaf[:,int(3/4*len(t))], x/H, thetaf[:,-1])\n",
    "\n",
    "plt.gca().set_prop_cycle(None)\n",
    "\n",
    "ax2.plot(x/H, thetas[:,0], 'k--', x/H, thetas[:,int(1/4*len(t))], '--', \n",
    "         x/H, thetas[:,int(2/4*len(t))], '--', x/H, thetas[:,int(3/4*len(t))], '--',\n",
    "         x/H, thetas[:,-1], '--')\n",
    "\n",
    "ax2.legend([r'$t = 0$', r'$t = 1/4 \\,t_f$', r'$t = 1/2 \\,t_f$', r'$t = 3/4 \\,t_f$', r'$t = t_f$'])\n",
    "ax2.set_box_aspect(0.8)\n",
    "ax2.set_xlabel(r'$x$', fontsize=16)\n",
    "\n",
    "\n",
    "fig.savefig('DNS_T_vs_x_vs_t_subplot.pdf', bbox_inches='tight')\n",
    "plt.show()"
   ]
  },
  {
   "cell_type": "markdown",
   "id": "2be38e3b",
   "metadata": {},
   "source": [
    "# Method of Characteristics"
   ]
  },
  {
   "cell_type": "code",
   "execution_count": null,
   "id": "5c621dd6",
   "metadata": {},
   "outputs": [],
   "source": [
    "Lambda = h*H/(rhof*cpf*u*eps)\n",
    "Lambdas = h*H/(rhos*cps*u*(1-eps))"
   ]
  },
  {
   "cell_type": "code",
   "execution_count": null,
   "id": "ebb809e4",
   "metadata": {},
   "outputs": [],
   "source": [
    "# Malla características\n",
    "CFL = dt*u/dx\n",
    "\n",
    "dx = 2.2e-2/H\n",
    "dt = dx\n",
    "\n",
    "xc = np.arange(0, 1 + dx, dx)\n",
    "tc = np.arange(0, 1/eps + dt, dt)"
   ]
  },
  {
   "cell_type": "code",
   "execution_count": null,
   "id": "4e7fe984",
   "metadata": {},
   "outputs": [],
   "source": [
    "u"
   ]
  },
  {
   "cell_type": "code",
   "execution_count": null,
   "id": "d2979191",
   "metadata": {},
   "outputs": [],
   "source": [
    "# Discretización\n",
    "xvc, tvc = np.meshgrid(xc, tc, indexing='ij')\n",
    "\n",
    "Cp = xvc*0\n",
    "Cn = xvc*0\n",
    "\n",
    "Tsc = xvc*0 + 1\n",
    "Tfc = xvc*0 + 1\n",
    "\n",
    "# ICs\n",
    "Tfc[:,0] = 1\n",
    "Tsc[:,0] = 1\n",
    "\n",
    "# BCs\n",
    "Tfc[0,:] = 0 #(Tin - T0)/T0\n",
    "\n",
    "# Valor inicial de las características\n",
    "Cp[:,0] = tc[0] + xc\n",
    "Cn[:,0] = xc"
   ]
  },
  {
   "cell_type": "markdown",
   "id": "25e31542",
   "metadata": {},
   "source": [
    "Matrix assembly"
   ]
  },
  {
   "cell_type": "code",
   "execution_count": null,
   "id": "769452ee",
   "metadata": {},
   "outputs": [],
   "source": [
    "A = [[1 + 0.5*Lambda*dt, -0.5*Lambda*dt],\n",
    "    [-0.5*Lambdas*dt, 1 + 0.5*Lambdas*dt]]\n",
    "Ainv = np.linalg.inv(A)"
   ]
  },
  {
   "cell_type": "code",
   "execution_count": null,
   "id": "9456f2b9",
   "metadata": {},
   "outputs": [],
   "source": [
    "# Numerical integration by using explicit Euler\n",
    "for j in range(1,len(tc)): \n",
    "    Cp[:,j] = tc[j] + xc\n",
    "    Cn[:,j] = xc\n",
    "\n",
    "    for i in range(1,len(xc)):\n",
    "        # Solución de ODEs sobre las características\n",
    "        Tfc[i,j], Tsc[i-1,j] = Ainv.dot([-0.5*Lambda*(Tfc[i-1,j-1] - Tsc[i-1,j-1])*dt + Tfc[i-1,j-1],\n",
    "                                        0.5*Lambdas*(Tfc[i-1,j-1] - Tsc[i-1,j-1])*dt + Tsc[i-1,j-1]])\n",
    "        "
   ]
  },
  {
   "cell_type": "code",
   "execution_count": null,
   "id": "9c8e9061",
   "metadata": {},
   "outputs": [],
   "source": [
    "fig, axs = plt.subplots()\n",
    "\n",
    "axs.plot(Cp[::64,:].T, tc, 'b-')\n",
    "axs.plot(Cn[::64,:].T, tc, 'r--')\n",
    "\n",
    "axs.set_ylabel(r'$t$', fontsize=16)\n",
    "axs.set_xlabel(r'$C^+/C^-$', fontsize=16)\n",
    "\n",
    "fig.savefig('characteristics.pdf', bbox_inches='tight')\n",
    "plt.show()"
   ]
  },
  {
   "cell_type": "code",
   "execution_count": null,
   "id": "2e175c59",
   "metadata": {
    "scrolled": false
   },
   "outputs": [],
   "source": [
    "fig, axs = plt.subplots(nrows=2, ncols=1, figsize=(5,8), sharex='row')\n",
    "(ax1, ax2) = axs\n",
    "\n",
    "cs1 = ax1.contourf(xvc, tvc*eps, Tfc, 10)\n",
    "plt.tight_layout()\n",
    "cbar1 = plt.colorbar(cs1)\n",
    "cbar1.set_label(r'$T$', fontsize=16)\n",
    "ax1.set_ylabel(r'$t$', fontsize=16)\n",
    "ax1.set_box_aspect(1)\n",
    "ax1.plot(x/H, x/H,'r--', label=r'$x = t$')\n",
    "# ax1.legend(loc='lower right')\n",
    "ax1.set_xlim([0, 1])\n",
    "ax1.set_ylim([0, 1])\n",
    "\n",
    "cs2 = ax2.contourf(xvc, tvc*eps, Tsc, 10)\n",
    "plt.tight_layout()\n",
    "cbar2 = plt.colorbar(cs2)\n",
    "cbar2.set_label(r'$T_s$', fontsize=16)\n",
    "ax2.set_ylabel(r'$t$', fontsize=16)\n",
    "ax2.set_box_aspect(1)\n",
    "ax2.plot(x/H, x/H,'r--', label=r'$x = t$')\n",
    "ax2.set_xlim([0, 1])\n",
    "ax2.set_ylim([0, 1])\n",
    "ax2.set_xlabel(r'$x$', fontsize=16)\n",
    "\n",
    "fig.savefig('char_T_vs_x_vs_t.pdf', bbox_inches='tight')\n",
    "plt.show()"
   ]
  },
  {
   "cell_type": "code",
   "execution_count": null,
   "id": "412dcca2",
   "metadata": {},
   "outputs": [],
   "source": [
    "fig, ax = plt.subplots(figsize=(8,8))\n",
    "\n",
    "plt.plot(xc, Tfc[:,0], 'k-', xc, Tsc[:,0], 'k--', xc, Tfc[:,int(1/4*len(tc))], \n",
    "         xc, Tfc[:,int(2/4*len(tc))], xc, Tfc[:,int(3/4*len(tc))], xc, Tfc[:,-1])\n",
    "\n",
    "plt.gca().set_prop_cycle(None)\n",
    "\n",
    "plt.plot(xc[:-2], Tsc[:-2,int(1/4*len(tc))], '--', xc[:-2], Tsc[:-2,int(2/4*len(tc))], '--',\n",
    "         xc[:-2], Tsc[:-2,int(3/4*len(tc))], '--', xc[:-2], Tsc[:-2,-1], '--')\n",
    "\n",
    "plt.xlim([-0.125, 1.125])\n",
    "\n",
    "plt.legend([r'$t = 0$ (char.-fluid)', r'$t = 0$ (char.-solid)',\n",
    "            r'$t = 1/4 \\,t_f$',\n",
    "            r'$t = 1/2 \\,t_f$', r'$t = 3/4 \\,t_f$', r'$t = t_f$'], bbox_to_anchor=(1, 1), loc='upper left')\n",
    "ax.set_box_aspect(0.8)\n",
    "ax.set_xlabel(r'$x$', fontsize=16)\n",
    "ax.set_ylabel(r'$T$', fontsize=16)\n",
    "fig.savefig('char_Tf_Ts_vs_x.pdf', bbox_inches='tight')\n",
    "plt.show()"
   ]
  },
  {
   "cell_type": "markdown",
   "id": "9053ca49",
   "metadata": {},
   "source": [
    "# Profiles comparison: DNS vs. characteristics"
   ]
  },
  {
   "cell_type": "code",
   "execution_count": null,
   "id": "0e81ca47",
   "metadata": {},
   "outputs": [],
   "source": [
    "fig, ax = plt.subplots(figsize=(8,8))\n",
    "\n",
    "plt.plot(x/H, thetaf[:,0], 'k', xc, Tfc[:,0], 'k--',\n",
    "         x/H, thetaf[:,int(1/4*len(t))],\n",
    "         x/H, thetaf[:,int(2/4*len(t))],\n",
    "         x/H, thetaf[:,int(3/4*len(t))],\n",
    "         x/H, thetaf[:,-1])\n",
    "\n",
    "plt.gca().set_prop_cycle(None)\n",
    "\n",
    "plt.plot(xc[:-2], Tfc[:-2,int(1/4*len(tc))], '--',\n",
    "         xc[:-2], Tfc[:-2,int(2/4*len(tc))], '--',\n",
    "         xc[:-2], Tfc[:-2,int(3/4*len(tc))], '--',\n",
    "         xc[:-2], Tfc[:-2,-1], '--')\n",
    "\n",
    "# plt.xlim([-0.01, 0.04])\n",
    "# plt.ylim([0.75, 1.125])\n",
    "\n",
    "plt.legend([r'$t = 0$ (DNS)', r'$t = 0$ (char.)',\n",
    "            r'$t = 1/4 \\,t_f$', r'$t = 1/2 \\,t_f$',\n",
    "            r'$t = 3/4 \\,t_f$', r'$t = t_f$'], bbox_to_anchor=(1, 1), loc='upper left')\n",
    "ax.set_box_aspect(0.8)\n",
    "ax.set_xlabel(r'$x$', fontsize=16)\n",
    "ax.set_ylabel(r'$T_f$', fontsize=16)\n",
    "fig.savefig('DNS_vs_characteristics_fluid.pdf', bbox_inches='tight')\n",
    "plt.show()"
   ]
  },
  {
   "cell_type": "code",
   "execution_count": null,
   "id": "34760e33",
   "metadata": {
    "scrolled": false
   },
   "outputs": [],
   "source": [
    "# Interpolation\n",
    "f = interp2d(x, t, thetaf.T, kind='linear')\n",
    "g = interp2d(x, t, thetas.T, kind='linear')\n",
    "thetafq = f(xc*H, t)\n",
    "thetasq = g(xc*H, t)"
   ]
  },
  {
   "cell_type": "code",
   "execution_count": null,
   "id": "5a881e5f",
   "metadata": {
    "scrolled": false
   },
   "outputs": [],
   "source": [
    "# Profiles intersection\n",
    "# idx0 = np.argwhere(np.diff(np.sign(thetafq[n00,:] - Tfc[:,n00]))).flatten()[-1]\n",
    "# idx1 = np.argwhere(np.diff(np.sign(thetafq[nt0p5h,:] - Tfc[:,nt0p5h]))).flatten()[-1]\n",
    "# idx2 = np.argwhere(np.diff(np.sign(thetafq[nt1h,:] - Tfc[:,nt1h]))).flatten()[-1]\n",
    "# idx3 = np.argwhere(np.diff(np.sign(thetafq[nt1p5h,:] - Tfc[:,nt1p5h]))).flatten()[-1]\n",
    "# idx4 = np.argwhere(np.diff(np.sign(thetafq[nt2h,:] - Tfc[:,nt2h]))).flatten()[-1]\n",
    "\n",
    "fig, ax = plt.subplots(figsize=(8,8))\n",
    "\n",
    "# DNS - fluid\n",
    "plt.plot(x/H, thetaf[:,0], 'b-')\n",
    "plt.plot(xc, Tfc[:,0], 'b--')\n",
    "plt.plot(x/H, thetas[:,0], 'r-')\n",
    "plt.plot(xc[:-2], Tsc[:-2,0], 'r--')\n",
    "\n",
    "plt.plot(x/H, thetaf[:,int(1/4*len(t))], 'b-', label='DNS-fluid')\n",
    "plt.plot(x/H, thetaf[:,int(2/4*len(t))], 'b-')\n",
    "plt.plot(x/H, thetaf[:,int(3/4*len(t))], 'b-')\n",
    "plt.plot(x/H, thetaf[:,-1], 'b-')\n",
    "\n",
    "# DNS - solid\n",
    "plt.plot(x/H, thetas[:,int(1/4*len(t))], 'r-', label='DNS-solid')\n",
    "plt.plot(x/H, thetas[:,int(2/4*len(t))], 'r-')\n",
    "plt.plot(x/H, thetas[:,int(3/4*len(t))], 'r-')\n",
    "plt.plot(x/H, thetas[:,-1], 'r-')\n",
    "\n",
    "# Char. - fluid\n",
    "plt.plot(xc[:-2], Tfc[:-2,int(1/4*len(tc))], 'b--', label='Char.-fluid')\n",
    "plt.plot(xc[:-2], Tfc[:-2,int(2/4*len(tc))], 'b--')\n",
    "plt.plot(xc[:-2], Tfc[:-2,int(3/4*len(tc))], 'b--')\n",
    "plt.plot(xc[:-2], Tfc[:-2,-1], 'b--')\n",
    "\n",
    "# Char. - solid\n",
    "plt.plot(xc[:-2], Tsc[:-2,int(1/4*len(tc))], 'r--', label='Char.-solid')\n",
    "plt.plot(xc[:-2], Tsc[:-2,int(2/4*len(tc))], 'r--')\n",
    "plt.plot(xc[:-2], Tsc[:-2,int(3/4*len(tc))], 'r--')\n",
    "plt.plot(xc[:-2], Tsc[:-2,-1], 'r--')\n",
    "\n",
    "\n",
    "# plt.plot(xc[idx0], thetafq[n00,idx0], 'ko', xc[idx1], thetafq[nt0p5h,idx1], 'ko', xc[idx2], thetafq[nt1h,idx2], 'ko',\n",
    "#          xc[idx3], thetafq[nt1p5h,idx3], 'ko', xc[idx4], thetafq[nt2h,idx4], 'ko')\n",
    "\n",
    "\n",
    "# Average T\n",
    "plt.plot(xc + 0.05, xc*0 + 0.5, 'k-.')\n",
    "\n",
    "# Cosmetics\n",
    "plt.text(0.83, 0.53, r'$T_{in}/2$', fontsize=14)\n",
    "plt.arrow(0.025, 0.25, 1, 0.1, width=0.0001, color='k', head_width=0.0125, head_length=0.025, lw=0.5)\n",
    "plt.text(0.95, 0.30, r'$t/t_f = 1/4,\\, 1/2,$', fontsize=12)\n",
    "plt.text(1.06, 0.25, r'$3/4, \\, 1.$', fontsize=12)\n",
    "\n",
    "plt.xlim([-0.125, 1.25])\n",
    "\n",
    "# plt.legend([r'$t = 0$ '+ r'(DNS)', r'$t = 0$ ' + r'(char.)'], bbox_to_anchor=(1, 1), loc='upper left')\n",
    "plt.legend(bbox_to_anchor=(1, 1), loc='upper left')\n",
    "ax.set_box_aspect(0.8)\n",
    "ax.set_xlabel(r'$x$', fontsize=16)\n",
    "ax.set_ylabel(r'$T$', fontsize=16)\n",
    "\n",
    "fig.savefig('DNS_vs_characteristics_all.pdf', bbox_inches='tight')\n",
    "plt.show()\n"
   ]
  },
  {
   "cell_type": "markdown",
   "id": "d4f0081e",
   "metadata": {},
   "source": [
    "# Theoretical solution by Schumann (1929) -- in process"
   ]
  },
  {
   "cell_type": "markdown",
   "id": "d8bb5a60",
   "metadata": {},
   "source": [
    "The theoretical solution due to Schumann explores the temperatures evolution in the range at $0 < y < 10$ and $0 < z < 10$. According to our natural coordinates $x$ and $t$, the former are related as\n",
    "\n",
    "$y = \\Lambda x$, so that $0 < x < 10/\\Lambda \\sim \\mathcal{O}(10^{-2})$\n",
    "\n",
    "$z = \\Lambda_s (t - x)$, equivalent to $0 < t < 10(1/\\Lambda + 1/\\Lambda_s) \\sim \\mathcal{O}(10^{-1})$.\n",
    "\n",
    "Otherwise, if we maintain the scales in $y$ and $z$ to fit these of $x$ and $t$, the heat transfer coefficients are\n",
    "in consequence\n",
    "\n",
    "$\\Lambda = 1$, and $\\Lambda_s >> 1$."
   ]
  },
  {
   "cell_type": "code",
   "execution_count": null,
   "id": "5d64db58",
   "metadata": {},
   "outputs": [],
   "source": [
    "y = Lambda*xvc\n",
    "z = Lambdas*(tvc - xvc)"
   ]
  },
  {
   "cell_type": "code",
   "execution_count": null,
   "id": "8df74ac8",
   "metadata": {},
   "outputs": [],
   "source": [
    "fig, ax = plt.subplots()\n",
    "\n",
    "cs1 = ax.contourf(z, y, Tfc, np.linspace(Tfc.min(), Tfc.max(), 16))\n",
    "plt.tight_layout()\n",
    "cbar1 = plt.colorbar(cs1)\n",
    "cbar1.set_label(r'$T$', fontsize=16)\n",
    "ax.set_xlabel(r'$x$', fontsize=16)\n",
    "ax.set_ylabel(r'$y$', fontsize=16)\n",
    "ax.set_box_aspect(1)\n",
    "ax.plot(z*0, y, 'r--', label=r'$z = 0$')# ax1.legend(loc='lower right')\n",
    "\n",
    "plt.show()"
   ]
  },
  {
   "cell_type": "code",
   "execution_count": null,
   "id": "d3f7b2df",
   "metadata": {},
   "outputs": [],
   "source": [
    "fig, ax = plt.subplots(figsize=(8,8))\n",
    "plt.plot(z[:,int(1/dy)], Tfc[:,int(1/dy)]*T0/(Tin - T0), label=r'$y = 1$')\n",
    "plt.plot(z[:,int(3/dy)], Tfc[:,int(3/dy)]*T0/(Tin - T0), label=r'$y = 3$')\n",
    "plt.plot(z[:,int(5/dy)], Tfc[:,int(5/dy)]*T0/(Tin - T0), label=r'$y = 5$')\n",
    "plt.plot(z[:,int(7/dy)], Tfc[:,int(7/dy)]*T0/(Tin - T0), label=r'$y = 7$')\n",
    "plt.plot(z[:,int(10/dy)], Tfc[:,int(10/dy)]*T0/(Tin - T0), label=r'$y = 10$')\n",
    "\n",
    "plt.xlim([0,10])\n",
    "plt.xlabel(r'$z$', fontsize=16)\n",
    "plt.ylabel(r'$T$', fontsize=16)\n",
    "plt.legend()\n",
    "plt.show()"
   ]
  },
  {
   "cell_type": "code",
   "execution_count": null,
   "id": "f09fbe3c",
   "metadata": {},
   "outputs": [],
   "source": [
    "k2 = h/(rhof*cpf*eps)\n",
    "k1 = h/(rhos*cps*(1-eps))\n",
    "\n",
    "dh = 0.01\n",
    "\n",
    "Y = np.arange(0, 10+dh, dh)\n",
    "Z = np.arange(0, 10+dh, dh)\n",
    "z, y = np.meshgrid(Z, Y)\n",
    "\n",
    "# y = Lambda*xvc\n",
    "# z = Lambdas*(tvc - xvc)\n",
    "\n",
    "a = np.arange(0+dh, 100+dh, dh)"
   ]
  },
  {
   "cell_type": "code",
   "execution_count": null,
   "id": "44f6acc4",
   "metadata": {},
   "outputs": [],
   "source": [
    "n = 20\n",
    "\n",
    "M0 = sum(a**i/(np.math.factorial(i)**2) for i in range(n))\n",
    "M0_ = jn(0,2j*sp.sqrt(a))"
   ]
  },
  {
   "cell_type": "code",
   "execution_count": null,
   "id": "f2072f7d",
   "metadata": {},
   "outputs": [],
   "source": [
    "plt.plot(a, M0, a, M0_)\n",
    "plt.show()"
   ]
  },
  {
   "cell_type": "code",
   "execution_count": null,
   "id": "5988cbb1",
   "metadata": {},
   "outputs": [],
   "source": [
    "def schumann(y, z):\n",
    "    Tss = np.exp(-y - z) * (\n",
    "        z**9 * (1/362880 + (y * z)/3628800) +\n",
    "        z**8 * (1/40320 + (y * z)/362880 + (y**2 * z**2)/7257600) +\n",
    "        z**7 * (1/5040 + (y * z)/40320 + (y**2 * z**2)/725760 + (y**3 * z**3)/21772800) +\n",
    "        z**6 * (1/720 + (y * z)/5040 + (y**2 * z**2)/80640 + (y**3 * z**3)/2177280 + (y**4 * z**4)/87091200) +\n",
    "        z**5 * (1/120 + (y * z)/720 + (y**2 * z**2)/10080 + (y**3 * z**3)/241920 + (y**4 * z**4)/8709120 + (y**5 * z**5)/435456000) +\n",
    "        z**4 * (1/24 + (y * z)/120 + (y**2 * z**2)/1440 + (y**3 * z**3)/30240 + (y**4 * z**4)/967680 + (y**5 * z**5)/43545600 + (y**6 * z**6)/2612736000) +\n",
    "        z**3 * (1/6 + (y * z)/24 + (y**2 * z**2)/240 + (y**3 * z**3)/4320 + (y**4 * z**4)/120960 + (y**5 * z**5)/4838400 + (y**6 * z**6)/261273600 + (y**7 * z**7)/18289152000) +\n",
    "        z**2 * (1/2 + (y * z)/6 + (y**2 * z**2)/48 + (y**3 * z**3)/720 + (y**4 * z**4)/17280 + (y**5 * z**5)/604800 + (y**6 * z**6)/29030400 + (y**7 * z**7)/1828915200 + (y**8 * z**8)/146313216000) +\n",
    "        z * (1 + (y * z)/2 + (y**2 * z**2)/12 + (y**3 * z**3)/144 + (y**4 * z**4)/2880 + (y**5 * z**5)/86400 + (y**6 * z**6)/3628800 + (y**7 * z**7)/203212800 + (y**8 * z**8)/14631321600 + (y**9 * z**9)/1316818944000)\n",
    "    )\n",
    "    \n",
    "    Tff = np.exp(-y - z) * (\n",
    "        1 + y * z + (y**2 * z**2)/4 + (y**3 * z**3)/36 + (y**4 * z**4)/576 + (y**5 * z**5)/14400 +\n",
    "        (y**6 * z**6)/518400 + (y**7 * z**7)/25401600 + (y**8 * z**8)/1625702400 + (y**9 * z**9)/131681894400 +\n",
    "        (y**10 * z**10)/13168189440000 +\n",
    "        z**9 * (1/362880 + (y * z)/3628800) +\n",
    "        z**8 * (1/40320 + (y * z)/362880 + (y**2 * z**2)/7257600) +\n",
    "        z**7 * (1/5040 + (y * z)/40320 + (y**2 * z**2)/725760 + (y**3 * z**3)/21772800) +\n",
    "        z**6 * (1/720 + (y * z)/5040 + (y**2 * z**2)/80640 + (y**3 * z**3)/2177280 + (y**4 * z**4)/87091200) +\n",
    "        z**5 * (1/120 + (y * z)/720 + (y**2 * z**2)/10080 + (y**3 * z**3)/241920 + (y**4 * z**4)/8709120 + (y**5 * z**5)/435456000) +\n",
    "        z**4 * (1/24 + (y * z)/120 + (y**2 * z**2)/1440 + (y**3 * z**3)/30240 + (y**4 * z**4)/967680 + (y**5 * z**5)/43545600 + (y**6 * z**6)/2612736000) +\n",
    "        z**3 * (1/6 + (y * z)/24 + (y**2 * z**2)/240 + (y**3 * z**3)/4320 + (y**4 * z**4)/120960 + (y**5 * z**5)/4838400 + (y**6 * z**6)/261273600 + (y**7 * z**7)/18289152000) +\n",
    "        z**2 * (1/2 + (y * z)/6 + (y**2 * z**2)/48 + (y**3 * z**3)/720 + (y**4 * z**4)/17280 + (y**5 * z**5)/604800 + (y**6 * z**6)/29030400 + (y**7 * z**7)/1828915200 + (y**8 * z**8)/146313216000) +\n",
    "        z * (1 + (y * z)/2 + (y**2 * z**2)/12 + (y**3 * z**3)/144 + (y**4 * z**4)/2880 + (y**5 * z**5)/86400 + (y**6 * z**6)/3628800 + (y**7 * z**7)/203212800 + (y**8 * z**8)/14631321600 + (y**9 * z**9)/1316818944000)\n",
    "    )\n",
    "    \n",
    "    return Tss, Tff"
   ]
  },
  {
   "cell_type": "code",
   "execution_count": null,
   "id": "6e1a4eb3",
   "metadata": {},
   "outputs": [],
   "source": [
    "Tss, Tff = schumann(y, z)"
   ]
  },
  {
   "cell_type": "code",
   "execution_count": null,
   "id": "e2f36339",
   "metadata": {
    "scrolled": false
   },
   "outputs": [],
   "source": [
    "fig, axs = plt.subplots(nrows=2, ncols=1, figsize=(5,8), sharex='row')\n",
    "(ax1, ax2) = axs\n",
    "\n",
    "cs1 = ax1.contourf(z, y, Tff, 16)\n",
    "plt.tight_layout()\n",
    "cbar1 = plt.colorbar(cs1)\n",
    "cbar1.set_label(r'$T$', fontsize=16)\n",
    "ax1.set_ylabel(r'$t$', fontsize=16)\n",
    "ax1.set_box_aspect(1)\n",
    "# ax1.legend(loc='lower right')\n",
    "ax1.set_xlim([0, 1])\n",
    "#ax1.set_ylim([0, 1])\n",
    "\n",
    "cs2 = ax2.contourf(z, y, Tss, 16)\n",
    "plt.tight_layout()\n",
    "cbar2 = plt.colorbar(cs2)\n",
    "cbar2.set_label(r'$T_s$', fontsize=16)\n",
    "ax2.set_ylabel(r'$t$', fontsize=16)\n",
    "ax2.set_box_aspect(1)\n",
    "ax2.set_xlim([0, 1])\n",
    "#ax2.set_ylim([0, 1])\n",
    "\n",
    "# fig.savefig('char_T_vs_x_vs_t.pdf', bbox_inches='tight')\n",
    "plt.show()"
   ]
  },
  {
   "cell_type": "code",
   "execution_count": null,
   "id": "98d2eeff",
   "metadata": {},
   "outputs": [],
   "source": [
    "fig, ax = plt.subplots()\n",
    "plt.plot(Z, Tss[::100,:].T)\n",
    "\n",
    "# plt.text(0.8, -0.075, r'$T_{in}/2$', fontsize=14)\n",
    "\n",
    "plt.xlim([0, 10])\n",
    "# plt.ylim([0, 1])\n",
    "\n",
    "# plt.legend([r'$t = 0$ '+ r'(DNS)', r'$t = 0$ ' + r'(char.)', r'$t = {:.3f}$'.format(np.round(n00*dt*H/u/tf, 3)) + r'$\\, t_f$', \n",
    "#             r'$t = 1/4 \\,t_f$',\n",
    "#             r'$t = 2/4 \\,t_f$', r'$t = 3/4 \\,t_f$', r'$t = t_f$'], bbox_to_anchor=(1, 1), loc='upper left')\n",
    "ax.set_box_aspect(0.8)\n",
    "ax.set_xlabel(r'$z$', fontsize=16)\n",
    "ax.set_ylabel(r'$T_s/T_{in}$', fontsize=16)\n",
    "\n",
    "plt.show()"
   ]
  },
  {
   "cell_type": "code",
   "execution_count": null,
   "id": "f157421e",
   "metadata": {
    "scrolled": false
   },
   "outputs": [],
   "source": [
    "fig, ax = plt.subplots()\n",
    "plt.plot(Z, Tff[100::100,:].T)\n",
    "\n",
    "# plt.text(0.8, -0.075, r'$T_{in}/2$', fontsize=14)\n",
    "\n",
    "plt.xlim([0, 10])\n",
    "plt.ylim([0, 1])\n",
    "\n",
    "# plt.legend([r'$t = 0$ '+ r'(DNS)', r'$t = 0$ ' + r'(char.)', r'$t = {:.3f}$'.format(np.round(n00*dt*H/u/tf, 3)) + r'$\\, t_f$', \n",
    "#             r'$t = 1/4 \\,t_f$',\n",
    "#             r'$t = 2/4 \\,t_f$', r'$t = 3/4 \\,t_f$', r'$t = t_f$'], bbox_to_anchor=(1, 1), loc='upper left')\n",
    "ax.set_box_aspect(0.8)\n",
    "ax.set_xlabel(r'$z$', fontsize=16)\n",
    "ax.set_ylabel(r'$T/T_{in}$', fontsize=16)\n",
    "\n",
    "plt.show()"
   ]
  },
  {
   "cell_type": "code",
   "execution_count": null,
   "id": "882a53bc",
   "metadata": {},
   "outputs": [],
   "source": []
  }
 ],
 "metadata": {
  "kernelspec": {
   "display_name": "Python 3 (ipykernel)",
   "language": "python",
   "name": "python3"
  },
  "language_info": {
   "codemirror_mode": {
    "name": "ipython",
    "version": 3
   },
   "file_extension": ".py",
   "mimetype": "text/x-python",
   "name": "python",
   "nbconvert_exporter": "python",
   "pygments_lexer": "ipython3",
   "version": "3.10.9"
  }
 },
 "nbformat": 4,
 "nbformat_minor": 5
}
